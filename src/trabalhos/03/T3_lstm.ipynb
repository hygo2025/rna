{
  "cells": [
    {
      "cell_type": "markdown",
      "metadata": {
        "id": "wOE2WTDAkagT"
      },
      "source": [
        "# 🧠🤖 Treinamento de Redes LSTM para Classificação\n",
        "\n",
        "- **Deadline**: 24/08/2025\n",
        "- **Entrega**: O trabalho deve ser entregue via sistema Testr.\n",
        "- **Pontuação**: 50% da nota do T2 (+1 ponto extra).\n",
        "- O trabalho deve ser realizado individualmente.\n",
        "\n"
      ]
    },
    {
      "cell_type": "markdown",
      "metadata": {
        "id": "NU05mfhsQB6Y"
      },
      "source": [
        "## Especificação"
      ]
    },
    {
      "cell_type": "markdown",
      "metadata": {
        "id": "PdAdEyR69fd1"
      },
      "source": [
        "\n",
        "### Contexto\n",
        "\n",
        "O trabalho consiste em realizar o treinamento de redes LSTM usando a base de dados [BBC News Archive disponível no kaggle](https://www.kaggle.com/datasets/hgultekin/bbcnewsarchive?select=bbc-news-data.csv). Esta base de dados contém 2.225 textos publicados no site de notícias da BBC news entre 2004-2005. Cada notícia foi classificada como sendo de um dos seguintes assuntos: business (negócios), entertainment (entretenimento), politics (política), sport (esportes), tech (tecnologia).\n",
        "\n",
        "O objetivo do trabalho é treinar uma rede neural capaz de identificar o tema de um texto. \n"
      ]
    },
    {
      "cell_type": "markdown",
      "metadata": {},
      "source": [
        "### Implementação \n",
        "\n",
        "- Use o notebook de classificação de sentimentos como ponto de partida.\n",
        "- use a biblioteca `kagglehub` para fazer o download do dataset no colab.\n",
        "- Um dos modelos de *word embeddings* disponíveis na biblioteca `gensim` deve ser utilizado para mapear palavras em vetores. \n",
        "- Use o tipo `nn.LSTM` disponível no `pytorch` (não é necessário implementar a camada LSTM do zero).\n",
        "- Os dados devem ser divididos em treino, validação e teste. Use o conjunto de validação para ajustar hiperparâmetros e para selecionar o modelo com melhor generalização. Avalie o modelo resultante usando o conjunto de teste apenas ao final. \n",
        "- Você pode optar por cortar os textos em um tamanho máximo (e.g., 100 palavras), como fizemos no notebook, para que os testes não demorem muito.\n",
        "- Use o ambiente de `GPU` do colab para evitar que o treinamento demore excessivamente.\n",
        "- Durante o desenvolvimento, é uma boa idéia usar um subconjunto (e.g., 10%) das notícias para que os testes sejam mais rápidos. Quando tudo estiver correto, faça o treinamento com a base completa.\n",
        "- Deve ser plotado o gráfico mostrando a evolução da função de perda nos conjuntos de treino e validação. \n",
        "- Devem ser mostradas as métricas geradas pela função `classification_report` da biblioteca scikit-learn e a matriz de confusão para o conjunto de teste. \n",
        "- Faça alguns testes qualitativos com textos escritos com você (não use textos da base de dados).\n",
        "- Discuta brevemente os resultados quantitativos e qualitativos (1-2 parágrafos, no máximo).\n"
      ]
    },
    {
      "cell_type": "markdown",
      "metadata": {
        "id": "ccJn9-T_Ts6e"
      },
      "source": [
        "\n",
        "### Pontos Extras\n",
        "\n",
        "Receberá um ponto extra, o aluno que:\n",
        "- Utilizar um LLM baseado em Transformer pré-treinado (e.g., [BERT](https://medium.com/@davidlfliang/intro-getting-started-with-text-embeddings-using-bert-9f8c3b98dee6)) para mapear as notícias em *embeddings*.\n",
        "- Utilizar uma rede Multilayer Perceptron para classificar os *embeddings*. \n",
        "- Comparar a performance desta solução com a LSTM. \n",
        "\n",
        "⚠️**IMPORTANTE**⚠️\n",
        "- Não é necessário (nem recomendável considerando o prazo) tentar realizar *fine-tuning* do LLM pré-treinado.\n",
        "- Estes modelos são SUPER-ULTRA-MASTER-BLASTER lentos na CPU. Use o ambiente de GPU do colab para evitar ficar 20h esperando para transformar os textos em *embeddings*.\n",
        "- Salve os embeddings depois da geração para evitar ter que gerá-los novamente. Quando necessário, faça upload do arquivo novamente para o colab."
      ]
    }
  ],
  "metadata": {
    "colab": {
      "provenance": []
    },
    "kernelspec": {
      "display_name": "Python 3",
      "name": "python3"
    },
    "language_info": {
      "name": "python"
    }
  },
  "nbformat": 4,
  "nbformat_minor": 0
}
