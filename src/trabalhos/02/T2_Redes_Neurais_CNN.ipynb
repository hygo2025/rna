{
  "cells": [
    {
      "cell_type": "markdown",
      "metadata": {
        "id": "wOE2WTDAkagT"
      },
      "source": [
        "# 🧠🤖 Treinamento de Redes Convolucionais\n",
        "\n",
        "- **Deadline**: 27/07/2025\n",
        "- **Entrega**: O trabalho deve ser entregue via sistema Testr.\n",
        "- **Pontuação**: 5 pontos (+1 ponto extra).\n",
        "- O trabalho deve ser realizado individualmente.\n",
        "\n"
      ]
    },
    {
      "cell_type": "markdown",
      "metadata": {
        "id": "NU05mfhsQB6Y"
      },
      "source": [
        "## Especificação"
      ]
    },
    {
      "cell_type": "markdown",
      "metadata": {
        "id": "PdAdEyR69fd1"
      },
      "source": [
        "\n",
        "### Contexto\n",
        "\n",
        "O trabalho consiste em realizar o treinamento de redes neurais convolucionais na base de dados [Chest X-ray Image (COVID19, PNEUMONIA, and NORMAL) disponível no kaggle](https://www.kaggle.com/datasets/alsaniipe/chest-x-ray-image). Esta base de dados contém exames de raio-x de pacientes saudáveis, com pneumonia e com covid19. O objetivo do trabalho é treinar uma rede neural capaz de identificar se o raio-x pertence a uma pessoa saudável ou com uma das duas doenças.\n",
        "\n"
      ]
    },
    {
      "cell_type": "markdown",
      "metadata": {
        "id": "lzYAL353TwRd"
      },
      "source": [
        "\n",
        "### Regras\n",
        "\n",
        "- Devem ser treinadas 3 redes neurais, uma customizada (desenvolvida pelo aluno), uma pré-treinada com parte convolucional congelada e uma pré-treinada  treinada totalmente (*fine-tuning*).\n",
        "- O dataset provê conjuntos de treino e teste. O conjunto de treino deve ser dividido em\n",
        "- O código deve ser preparado para utilizar GPUs (no colab ou localmente).\n",
        "- Não devem ser utilizados frameworks de alto nível como keras ou lightning. O código deve utilizar apenas pytorch.\n",
        "- Deve ser utilizado data augmentation (o aluno tem liberdade para escolher os métodos que fizerem sentido para a tarefa).\n",
        "- Ao final, deve ser apresentados gráficos comparando as acurácias de treino e validação ao longo das épocas e uma tabela apresentando as métricas de performance revocação, f1-score e acurácia para o conjunto de teste em cada configuração de rede neural. Além disso, deve ser uma análise qualitativa dos casos de falha.\n",
        "- Por fim, deve ser escrito um texto curto descrevendo e discutindo os resultados. Deve ser explicado com as suas palavras o que as métricas indicam (e.g., o que quer dizer um recall alto para pneumonia, se isto acontecer), se aconteceu overfitting ou se o modelo alcançou uma boa generalização, se os valores das métricas foram satisfatórios, prováveis causas para as falhas e sugestões de como melhorar a performance.\n"
      ]
    },
    {
      "cell_type": "markdown",
      "metadata": {
        "id": "ccJn9-T_Ts6e"
      },
      "source": [
        "\n",
        "### Pontos Extras\n",
        "\n",
        "- Receberá um ponto extra, o aluno que utilizar um método explainability (e.g., [gradcam++](https://github.com/jacobgil/pytorch-grad-cam)) para mostrar as regiões que mais influenciaram a decisão da rede neural.\n"
      ]
    },
    {
      "cell_type": "markdown",
      "metadata": {
        "id": "UVEGpImEQXLX"
      },
      "source": [
        "### Dicas de Implementação\n",
        "\n",
        "- **Download dos dados**: use a biblioteca `kagglehub` para fazer o download do dataset no colab.\n",
        "\n",
        "- **Criação do dataset**: o pytorch possui a função [ImageFolder](https://debuggercafe.com/pytorch-imagefolder-for-training-cnn-models/) que torna mais simples a criação de datasets organizados no formato do dataset utilizado no trabalho.\n",
        "\n",
        "- **Leitura e preprocessamento das Imagens**: As imagens do dataset possuem características bastante diversas, com algumas delas sendo armazenadas em tons de cinza e outras em RGB, algumas são arquivos BITMAP armazenados em formato jpg, algumas usam 8 bits e outras 16 bits para representar pixels e as resoluções das imagens são altamente diferentes. Use a função abaixo para ler as imagens e lembre-se de realizar *resize* para o tamanho esperado pela rede neural.\n",
        "\n",
        "```python\n",
        "from PIL import Image\n",
        "\n",
        "def load_img(path):\n",
        "  # Le a imagem em diversos formatos e garante que a imagem tenha 3 canais\n",
        "  img = Image.open(path).convert('RGB')\n",
        "  # converte para um tensor do pytorch\n",
        "  img = v2.functional.to_image(img)\n",
        "  # garante que seja uma imagem de 8 bits reescalando os valores adequadamente\n",
        "  img = v2.functional.to_dtype(img, dtype=torch.uint8, scale=True)\n",
        "  return img\n",
        "```\n",
        "\n",
        "- **Aumento de Dados**: Para visualizar a maioria das transformações disponíveis, veja [este site](https://docs.pytorch.org/vision/main/auto_examples/transforms/plot_transforms_illustrations.html). Use a versão `v2` do pacote `pytorch.transforms`. Veja [este link](https://docs.pytorch.org/vision/main/transforms.html#v2-api-reference-recommended) para uma explicação do porquê e instruções de uso.\n",
        "  - ⚠️**IMPORTANTE**⚠️: o aumento de dados deve ser aplicado apenas no conjunto de treinamento para aumentar a diversidade dos dados. Os dados de validação e teste devem ser **puros e não modificados**, exceto por operações como resize ou normalização.\n",
        "\n",
        "\n",
        "- **Seleção de um modelo pré-treinado**: É uma boa idéia experimentar com diferentes modelos pré-treinados para avaliar qual vai levar a predições mais corretas e avaliar outros critérios, por exemplo, tempo de forward por imagem. Uma heurística para escolher modelos é buscar aqueles que possuem [melhor performance na base de dados ImageNet](https://docs.pytorch.org/vision/0.21/models.html#table-of-all-available-classification-weights:~:text=Table%20of%20all%20available%20classification%20weights).\n",
        "  - As redes mobilenet-v2 e -v3 são desenhadas para serem rápidas e rodarem em dispositivos de baixo poder computacional.\n",
        "  - A rede densenet em geral entrega boa performance.\n",
        "  - As Efficientnet-b5+ não rodam no colab (até a última vez que testei) por falta de memória.\n",
        "  - As redes ViT usam a arquitetura transformers e não são convolucionais. **Elas podem ser utilizadas para comparação, mas pelo menos uma outra rede neural totalmente convolucional deve ser utilizada**.\n",
        "\n",
        "- **Visualize sempre que possível**: Não deixe de visualizar pelo menos uma vez os batches que estão sendo usados para treinar a rede. Alguma operação pode estar transformando as imagens de forma que a impedir que a rede neural seja capaz de aprender os padrões que ela deveria aprender.\n",
        "\n",
        "- **Brinque com Hiperparâmetros**: Ajuste os hiperparâmetros para tentar chegar em modelos com o máximo de performance de validação. Não é obrigatório, mas é legal brincar também com técnicas de regularização, caso a rede esteja sofrendo de overfitting.\n",
        "\n",
        "- **Desbalanceamento do Dataset**: O dataset possui algum nível de desbalanceamento, com mais imagens normais do que com covid ou pneumonia. Não é obrigatório, mas quem quiser pode realizar superamostragem dos dados com covid ou pneumonia para mitigar o desbalanceamento. As operações de data augmentation vão garantir que os dados tenham diversidade.\n",
        "\n",
        "\n",
        "- **Escrita de tabelas**: Tabelas podem ser escritas em notebooks usando latex, como indicado abaixo.\n",
        "\n",
        "```latex\n",
        "\\begin{array}{ccc}\n",
        "\\hline\n",
        "modelo & métrica1 & métrica2 \\\\ \\hline\n",
        "custom & 0.85 & 0.83 \\\\ \\hline\n",
        "frozen-conv & 0.91 & 0.92 \\\\ \\hline\n",
        "fine-tuning & 0.93 & 0.90 \\\\ \\hline\n",
        "\\end{array}\n",
        "```\n",
        "\n",
        "O resultado seria:\n",
        "\n",
        "\\begin{array}{ccc}\n",
        "\\hline\n",
        "modelo & métrica1 & métrica2 \\\\ \\hline\n",
        "custom & 0.85 & 0.83 \\\\ \\hline\n",
        "frozen-conv & 0.91 & 0.92 \\\\ \\hline\n",
        "fine-tuning & 0.93 & 0.90 \\\\ \\hline\n",
        "\\end{array}\n",
        "\n",
        "Elas também pode ser escritas em markdown como indicado abaixo:\n",
        "\n",
        "```markdown\n",
        "| modelo | métrica1 | métrica2 |\n",
        "|---|---|---|\n",
        "| custom | 0.85 | 0.83 |\n",
        "| frozen-conv | 0.91 | 0.92 |\n",
        "| fine-tuning | 0.93 | 0.90 |\n",
        "```\n",
        "\n",
        "O resultado seria:\n",
        "\n",
        "| modelo | métrica1 | métrica2 |\n",
        "|---|---|---|\n",
        "| custom | 0.85 | 0.83 |\n",
        "| frozen-conv | 0.91 | 0.92 |\n",
        "| fine-tuning | 0.93 | 0.90 |\n"
      ]
    },
    {
      "cell_type": "markdown",
      "metadata": {
        "id": "sqzQYcpqYT1i"
      },
      "source": [
        "### Roteiro de Implementação\n",
        "\n",
        "Para realizar o trabalho, siga os seguintes passos:\n",
        "\n",
        "1. Faça o download automático do dataset.\n",
        "1. Compreenda a organização do dataset e visualize alguns dados.\n",
        "1. Crie os dataset de treino, validação e teste do pytorch. Visualize se os dados continuam com a mesma cara.\n",
        "1. Crie as transformações de data augmentation e adicione ao dataset de treino.\n",
        "1. Crie transformações para os datasets de validação e teste que coloquem os dados no mesmo formato usado no treino, por exemplo, resize e normalização. Lembre-se de **NÃO** aplicar data augmentation nos conjuntos de validação e teste!\n",
        "1. Crie dataloaders.\n",
        "1. Construa uma CNN.\n",
        "1. Escreva funções para treinamento e avaliação. Retorne o valor da acurácia para os conjuntos de treino e validação nas épocas de treinamento.\n",
        "1. Crie uma loss function e um otimizador.\n",
        "1. Execute o treinamento e verifique se a curva de treinamento está se comportando como esperado.\n",
        "  - A acurácia de treinamento está aumentando? Se não, verifique se o dataset está certo e aumente a capacidade da rede.\n",
        "  - A acurácia de treinamento se aproximando de 100%? Se não, aumente a capacidade da rede e tente ajustar a learning rate.\n",
        "  - A acurácia de validação está aumentando no início do treinamento? Se não, verifique se os dados de validação estão no mesmo formato dos dados de treinamento.\n",
        "  - A acurácia de validação está diminuindo depois de um número de épocas? Parece que está acontecendo overfitting. Tente usar algum método de regularização.  \n",
        "1. Brinque com os hiperparâmetros para tentar fazer a rede aprender mais rápido e com maior performance de validação.\n",
        "1. Crie uma função para calcular métricas de avaliação e visualize as métricas para os conjuntos de treinamento e teste. Compare os dois e veja se aconteceu overiffitting.\n",
        "\n",
        "Repita o processo usando as redes pré-treinadas.\n",
        "\n"
      ]
    }
  ],
  "metadata": {
    "colab": {
      "provenance": []
    },
    "kernelspec": {
      "display_name": "Python 3",
      "name": "python3"
    },
    "language_info": {
      "name": "python"
    }
  },
  "nbformat": 4,
  "nbformat_minor": 0
}
