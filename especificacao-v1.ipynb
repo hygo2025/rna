{
  "cells": [
    {
      "cell_type": "markdown",
      "metadata": {
        "id": "view-in-github",
        "colab_type": "text"
      },
      "source": [
        "<a href=\"https://colab.research.google.com/github/hygo2025/rna/blob/main/especificacao-v1.ipynb\" target=\"_parent\"><img src=\"https://colab.research.google.com/assets/colab-badge.svg\" alt=\"Open In Colab\"/></a>"
      ]
    },
    {
      "cell_type": "markdown",
      "id": "0a622311",
      "metadata": {
        "id": "0a622311"
      },
      "source": [
        "\n",
        "# Trabalho 1: Diferenciação Automática com Grafos Computacionais\n",
        "\n",
        "## Informações Gerais\n",
        "\n",
        "- Data de Entrega: 29/06/2025\n",
        "- Pontuação: 10 pontos (+4 pontos extras)\n",
        "- O trabalho deve ser feito individualmente.\n",
        "- A entrega do trabalho deve ser realizada via sistema testr.\n",
        "\n"
      ]
    },
    {
      "cell_type": "markdown",
      "id": "81844651",
      "metadata": {
        "id": "81844651"
      },
      "source": [
        "## Especificação\n",
        "\n",
        "⚠️ *Esta explicação assume que você leu e entendeu os slides sobre grafos computacionais.*\n",
        "\n",
        "O trabalho consiste em implementar um sistema de diferenciação automática usando grafos computacionais e utilizar este sistema para resolver um conjunto de problemas.\n",
        "\n",
        "Para isto, devem ser definidos um tipo Tensor para representar dados (similares aos arrays do numpy) e operações (e.g., soma, subtração, etc.) que geram tensores como saída.\n",
        "\n",
        "Sempre que uma operação é realizada, é armazenado no tensor de saída referências para os seus pais, isto é, os valores usados como entrada para a operação.\n"
      ]
    },
    {
      "cell_type": "markdown",
      "id": "faacc1a1",
      "metadata": {
        "id": "faacc1a1"
      },
      "source": [
        "### Imports"
      ]
    },
    {
      "metadata": {
        "ExecuteTime": {
          "end_time": "2025-06-14T21:31:45.927824Z",
          "start_time": "2025-06-14T21:31:45.315218Z"
        },
        "id": "2591e652c30824c2",
        "outputId": "f58eeefd-9c38-4c07-a7a5-40b4d18d1342",
        "colab": {
          "base_uri": "https://localhost:8080/"
        }
      },
      "cell_type": "code",
      "source": [
        "!pip install toolz"
      ],
      "id": "2591e652c30824c2",
      "outputs": [
        {
          "output_type": "stream",
          "name": "stdout",
          "text": [
            "Requirement already satisfied: toolz in /usr/local/lib/python3.11/dist-packages (0.12.1)\n"
          ]
        }
      ],
      "execution_count": 1
    },
    {
      "cell_type": "code",
      "id": "19261d1f",
      "metadata": {
        "ExecuteTime": {
          "end_time": "2025-06-14T21:31:45.935891Z",
          "start_time": "2025-06-14T21:31:45.932070Z"
        },
        "id": "19261d1f"
      },
      "source": [
        "from typing import Optional, Union, Any\n",
        "from collections.abc import Iterable\n",
        "from abc import ABC, abstractmethod\n",
        "import numbers\n",
        "\n",
        "import numpy as np\n",
        "import matplotlib.pyplot as plt\n",
        "import seaborn as sns\n",
        "from toolz import pipe\n",
        "\n",
        "sns.set_style('whitegrid')"
      ],
      "outputs": [],
      "execution_count": 2
    },
    {
      "cell_type": "markdown",
      "id": "f284f531",
      "metadata": {
        "id": "f284f531"
      },
      "source": [
        "### Classe NameManager"
      ]
    },
    {
      "cell_type": "markdown",
      "id": "8fd00b34",
      "metadata": {
        "id": "8fd00b34"
      },
      "source": [
        "A classe NameManager provê uma forma conveniente de dar nomes intuitivos para tensores que resultam de operações. A idéia é tornar mais fácil para o usuário das demais classes qual operação gerou qual tensor. Ela provê os seguintes métodos públicos:\n",
        "\n",
        "- reset(): reinicia o sistema de gestão de nomes.\n",
        "- new(<basename>: str): retorna um nome único a partir do nome de base passado como argumento.\n",
        "  \n",
        "Como indicado no exemplo abaixo da classe, a idéia geral é que uma sequência de operações é feita, os nomes dos tensores sejam os nomes das operações seguidos de um número. Se forem feitas 3 operações de soma e uma de multiplicação, seus tensores de saída terão os nomes \"add:0\", \"add:1\", \"add:2\" e \"prod:0\"."
      ]
    },
    {
      "cell_type": "code",
      "id": "162272a0",
      "metadata": {
        "tags": [
          "name_manager"
        ],
        "ExecuteTime": {
          "end_time": "2025-06-14T21:31:45.986325Z",
          "start_time": "2025-06-14T21:31:45.982127Z"
        },
        "id": "162272a0",
        "outputId": "24e1caf3-0bec-4c37-f748-41eeedddc636",
        "colab": {
          "base_uri": "https://localhost:8080/"
        }
      },
      "source": [
        "\n",
        "class NameManager:\n",
        "    _counts = {}\n",
        "\n",
        "    @staticmethod\n",
        "    def reset():\n",
        "        NameManager._counts = {}\n",
        "\n",
        "    @staticmethod\n",
        "    def _count(name):\n",
        "        if name not in NameManager._counts:\n",
        "            NameManager._counts[name] = 0\n",
        "        count = NameManager._counts[name]\n",
        "        return count\n",
        "\n",
        "    @staticmethod\n",
        "    def _inc_count(name):\n",
        "        assert name in NameManager._counts, f'Name {name} is not registered.'\n",
        "        NameManager._counts[name] += 1\n",
        "\n",
        "    @staticmethod\n",
        "    def new(name: str):\n",
        "        count = NameManager._count(name)\n",
        "        tensor_name = f\"{name}:{count}\"\n",
        "        NameManager._inc_count(name)\n",
        "        return tensor_name\n",
        "\n",
        "# exemplo de uso\n",
        "print(NameManager.new('add'))\n",
        "print(NameManager.new('in'))\n",
        "print(NameManager.new('add'))\n",
        "print(NameManager.new('add'))\n",
        "print(NameManager.new('in'))\n",
        "print(NameManager.new('prod'))\n",
        "\n",
        "NameManager.reset()"
      ],
      "outputs": [
        {
          "output_type": "stream",
          "name": "stdout",
          "text": [
            "add:0\n",
            "in:0\n",
            "add:1\n",
            "add:2\n",
            "in:1\n",
            "prod:0\n"
          ]
        }
      ],
      "execution_count": 3
    },
    {
      "cell_type": "markdown",
      "id": "e69485a9",
      "metadata": {
        "id": "e69485a9"
      },
      "source": [
        "### Classe Tensor\n",
        "\n",
        "Deve ser criada uma classe `Tensor` representando um array multidimensional."
      ]
    },
    {
      "cell_type": "code",
      "id": "448496d7",
      "metadata": {
        "tags": [
          "tensor"
        ],
        "ExecuteTime": {
          "end_time": "2025-06-14T21:31:46.040874Z",
          "start_time": "2025-06-14T21:31:46.032495Z"
        },
        "id": "448496d7"
      },
      "source": [
        "\n",
        "from toolz import pipe\n",
        "\n",
        "InputArr = Union[np.ndarray, list, numbers.Number, Any]\n",
        "\n",
        "def standardize_tensor(arr: InputArr) -> np.ndarray:\n",
        "  match arr:\n",
        "    case Tensor():\n",
        "      return arr.numpy().copy()\n",
        "\n",
        "    case list() | numbers.Number():\n",
        "      return np.array(arr, dtype=float)\n",
        "\n",
        "    case np.ndarray():\n",
        "      return arr.astype(float).copy()\n",
        "\n",
        "    case _:\n",
        "      raise TypeError(f\"Tipo de dado não suportado: {type(arr)}\")\n",
        "\n",
        "def standardize_dimensions(arr: np.ndarray) -> np.ndarray:\n",
        "  match arr.ndim:\n",
        "    case 0:\n",
        "      return arr.reshape((1, 1))  # escalar\n",
        "    case 1:\n",
        "      return arr.reshape(-1, 1) # vetor coluna\n",
        "    case 2:\n",
        "      return arr\n",
        "    case _:\n",
        "        raise ValueError(f\"Dimensões não suportadas: {arr.ndim}. Máximo 2 dimensões.\")\n",
        "\n",
        "class Tensor:\n",
        "  def __init__(self,\n",
        "         arr: InputArr,\n",
        "         parents: list[Any] = None,\n",
        "         requires_grad: bool = True,\n",
        "         name: str = '',\n",
        "         operation=None):\n",
        "\n",
        "    self.grad = None\n",
        "    self._arr = pipe(arr, standardize_tensor, standardize_dimensions)\n",
        "    self.requires_grad = requires_grad\n",
        "    self._operation = operation\n",
        "    self._name = name\n",
        "    self._parents = parents or []\n",
        "\n",
        "\n",
        "\n",
        "  def __neg__(self):\n",
        "    negated_arr = -self.numpy()\n",
        "    return Tensor(negated_arr, requires_grad=False)\n",
        "\n",
        "  def zero_grad(self):\n",
        "    \"\"\"Reinicia o gradiente com zero\"\"\"\n",
        "    if self.requires_grad: #Aqui fala pa reiniciar o gradiente com zero, entretante esse grad deve ser um um tensor como no enunciado ou um np.array?\n",
        "      # self._grad = np.zeros_like(self._arr)\n",
        "      self.grad = Tensor(np.zeros_like(self._arr), requires_grad=False, name=f\"{self._name}_grad\")\n",
        "\n",
        "  def numpy(self) -> np.ndarray:\n",
        "    \"\"\"Retorna o array interno\"\"\"\n",
        "    return self._arr\n",
        "\n",
        "  def __repr__(self):\n",
        "    \"\"\"Permite visualizar os dados do tensor como string\"\"\"\n",
        "    return f\"Tensor({self._arr}, name={self._name}, shape={self._arr.shape})\"\n",
        "\n",
        "  def backward(self, my_grad: 'Tensor' =None):\n",
        "    \"\"\"Método usado tanto iniciar o processo de\n",
        "    diferenciação automática, quanto por um filho\n",
        "    para enviar o gradiente do pai. No primeiro\n",
        "    caso, o argumento my_grad não será passado.\n",
        "    \"\"\"\n",
        "\n",
        "    # Ainda nao entendi pq eu nao iria querer o grad, acho que só é valido para o ultimo elemnto do grafo\n",
        "    if not self.requires_grad:\n",
        "        return\n",
        "\n",
        "    if my_grad is None: # Se for o final do grafo retona tudo 1\n",
        "        my_grad = Tensor(np.ones_like(self._arr), requires_grad=False)\n",
        "\n",
        "    if self.grad is None: # Se for o primeiro gradiente, inicializa, nao da da somar None com um Tensor\n",
        "        self.grad = my_grad\n",
        "    else:\n",
        "        self.grad._arr += my_grad.numpy() # Aqui acredito que ocorre o acumumulo do gradiente ponto a ponto\n",
        "\n",
        "    if self._operation:\n",
        "      # O professor explicou na aula em relacao aos parametros nao nomeados, acho que devo passar, pois na classe Op o metodo grad recebe args que sao os pais\n",
        "      parent_grads = self._operation.grad(self.grad, *self._parents) # faz o calculo da operacao, por exemplo da soma\n",
        "      for parent, parent_grad_arr in zip(self._parents, parent_grads):\n",
        "        parent.backward(Tensor(parent_grad_arr))\n"
      ],
      "outputs": [],
      "execution_count": 4
    },
    {
      "cell_type": "markdown",
      "id": "d2c612fc",
      "metadata": {
        "id": "d2c612fc"
      },
      "source": [
        "### Interface de  Operações"
      ]
    },
    {
      "cell_type": "markdown",
      "id": "7db44044",
      "metadata": {
        "id": "7db44044"
      },
      "source": [
        "A classe abaixo define a interface que as operações devem implementar. Ela não precisa ser modificada, mas pode, caso queira."
      ]
    },
    {
      "cell_type": "code",
      "id": "28a19b73",
      "metadata": {
        "tags": [
          "op"
        ],
        "ExecuteTime": {
          "end_time": "2025-06-14T21:31:46.089741Z",
          "start_time": "2025-06-14T21:31:46.086634Z"
        },
        "id": "28a19b73"
      },
      "source": [
        "\n",
        "class Op(ABC):\n",
        "    @abstractmethod\n",
        "    def __call__(self, *args, **kwargs) -> Tensor:\n",
        "        \"\"\"Realiza a operação usando as entradas e\n",
        "            retorna o tensor resultado. O método deve\n",
        "            garantir que o atributo parents do tensor\n",
        "            de saída seja uma lista de tensores.\"\"\"\n",
        "\n",
        "    @abstractmethod\n",
        "    def grad(self, back_grad: Tensor, *args, **kwargs) -> list[Tensor]:\n",
        "        \"\"\"Retorna os gradientes dos pais em como tensores.\n",
        "\n",
        "        Arguments:\n",
        "\n",
        "        - back_grad: Derivada parcial em relação à saída\n",
        "            da operação backpropagada pelo filho.\n",
        "\n",
        "        - args: variaveis de entrada da operacao (pais)\n",
        "            como tensores.\n",
        "\n",
        "        - O nome dos tensores de gradiente devem ter o\n",
        "            nome da operacao seguido de '_grad'.\n",
        "        \"\"\"\n",
        "\n"
      ],
      "outputs": [],
      "execution_count": 5
    },
    {
      "metadata": {
        "ExecuteTime": {
          "end_time": "2025-06-14T21:31:46.140437Z",
          "start_time": "2025-06-14T21:31:46.136688Z"
        },
        "id": "fa3c925e33447987"
      },
      "cell_type": "code",
      "source": [
        "from functools import wraps\n",
        "from toolz import pipe\n",
        "\n",
        "def preprocess_op(arity: int):\n",
        "  \"\"\"\n",
        "  Decorador que pré-processa os argumentos para uma operação.\n",
        "  Checa aridade e garante que todos os args são Tensors.\n",
        "  https://book.pythontips.com/en/latest/decorators.html#nesting-a-decorator-within-a-function\n",
        "  \"\"\"\n",
        "  def decorator(func):\n",
        "    @wraps(func)\n",
        "    def wrapper(self, *args, **kwargs):\n",
        "      # checa aridade\n",
        "      if len(args) != arity:\n",
        "        raise ValueError(\n",
        "          f\"A operação {func.__name__} espera {arity} operandos, mas recebeu {len(args)}.\"\n",
        "        )\n",
        "\n",
        "      # Força tudo ser Tensor\n",
        "      processed_args = pipe(\n",
        "        args,\n",
        "        lambda op_args: map(\n",
        "          lambda arg: arg if isinstance(arg, Tensor) else Tensor(arg, requires_grad=False),\n",
        "          op_args\n",
        "        ),\n",
        "        list\n",
        "      )\n",
        "\n",
        "      # chama a função original\n",
        "      return func(self, *processed_args, **kwargs)\n",
        "\n",
        "    return wrapper\n",
        "  return decorator"
      ],
      "id": "fa3c925e33447987",
      "outputs": [],
      "execution_count": 6
    },
    {
      "cell_type": "markdown",
      "id": "9b89e386",
      "metadata": {
        "id": "9b89e386"
      },
      "source": [
        "### Implementação das Operações\n",
        "\n",
        "Operações devem herdar de `Op` e implementar os métodos `__call__` e `grad`.\n",
        "\n",
        "Pelo menos as seguintes operações devem ser implementadas:\n",
        "\n"
      ]
    },
    {
      "cell_type": "code",
      "id": "aa4f7719",
      "metadata": {
        "tags": [
          "add"
        ],
        "ExecuteTime": {
          "end_time": "2025-06-14T21:31:46.186558Z",
          "start_time": "2025-06-14T21:31:46.183223Z"
        },
        "id": "aa4f7719"
      },
      "source": [
        "\n",
        "class Add(Op):\n",
        "    \"\"\"Add(a, b): a + b\"\"\"\n",
        "    @preprocess_op(arity=2)\n",
        "    def __call__(self, t_a: Tensor, t_b: Tensor) -> Tensor:\n",
        "        \"\"\"Realiza a operação usando os argumentos dados em args\"\"\"\n",
        "\n",
        "        return Tensor(\n",
        "          arr=t_a.numpy() + t_b.numpy(),\n",
        "          parents=[t_a, t_b],\n",
        "          operation=self,\n",
        "          requires_grad=t_a.requires_grad or t_b.requires_grad,\n",
        "          name='add'\n",
        "        )\n",
        "\n",
        "    def grad(self, back_grad: Tensor, *args, **kwargs) -> list[Tensor]:\n",
        "        \"\"\"Retorna a lista de derivadas parciais em relação aos pais (passados em args)\"\"\"\n",
        "        return [back_grad, back_grad]\n",
        "\n",
        "# Instancia a classe. O objeto passa a poder ser usado como uma funcao\n",
        "add = Add()"
      ],
      "outputs": [],
      "execution_count": 7
    },
    {
      "cell_type": "code",
      "id": "05cb44e6",
      "metadata": {
        "tags": [
          "sub"
        ],
        "ExecuteTime": {
          "end_time": "2025-06-14T21:31:46.243354Z",
          "start_time": "2025-06-14T21:31:46.237322Z"
        },
        "id": "05cb44e6"
      },
      "source": [
        "\n",
        "class Sub(Op):\n",
        "  \"\"\"Sub(a, b): a - b\"\"\"\n",
        "  @preprocess_op(arity=2)\n",
        "  def __call__(self, t_a: Tensor, t_b: Tensor) -> Tensor:\n",
        "    \"\"\"Realiza a operação usando os argumentos dados em args\"\"\"\n",
        "\n",
        "    return Tensor(\n",
        "      arr=t_a.numpy() - t_b.numpy(),\n",
        "      parents=[t_a, t_b],\n",
        "      operation=self,\n",
        "      requires_grad=t_a.requires_grad or t_b.requires_grad,\n",
        "      name='sub'\n",
        "    )\n",
        "\n",
        "  def grad(self, back_grad: Tensor, *args, **kwargs) -> list[Tensor]:\n",
        "    \"\"\"Retorna a lista de derivadas parciais em relação aos pais (passados em args)\"\"\"\n",
        "\n",
        "    return [back_grad, -back_grad]  # A derivada de a - b em relação a a é 1 e em relação a b é -1\n",
        "\n",
        "# Instancia a classe. O objeto passa a poder ser usado como uma funcao\n",
        "sub = Sub()"
      ],
      "outputs": [],
      "execution_count": 8
    },
    {
      "cell_type": "code",
      "id": "6f53df08",
      "metadata": {
        "tags": [
          "prod"
        ],
        "ExecuteTime": {
          "end_time": "2025-06-14T21:31:46.302910Z",
          "start_time": "2025-06-14T21:31:46.296771Z"
        },
        "id": "6f53df08"
      },
      "source": [
        "\n",
        "class Prod(Op):\n",
        "  \"\"\"Prod(a, b): produto ponto a ponto de a e b ou produto escalar-tensor\"\"\"\n",
        "  @preprocess_op(arity=2)\n",
        "  def __call__(self, t_a: Tensor, t_b: Tensor) -> Tensor:\n",
        "    \"\"\"Realiza a operação usando os argumentos dados em args\"\"\"\n",
        "    return Tensor(\n",
        "      arr=np.multiply(t_a.numpy(), t_b.numpy()),\n",
        "      parents=[t_a, t_b],\n",
        "      operation=self,\n",
        "      requires_grad=t_a.requires_grad or t_b.requires_grad,\n",
        "      name='prod'\n",
        "    )\n",
        "\n",
        "  def grad(self, back_grad: Tensor, *args, **kwargs) -> list[Tensor]:\n",
        "    \"\"\"Retorna a lista de derivadas parciais em relação aos pais (passados em args)\"\"\"\n",
        "    # f(x) = u(x) * v(x)\n",
        "    # f(x) = u'(x) * v(x) + u(x) * v'(x)\n",
        "    a, b = args\n",
        "\n",
        "    # a é u(x)\n",
        "    # b é v(x)\n",
        "    # f(x) = a * b até aqui normal\n",
        "\n",
        "    # primeiro vou fazer a derivada em relação a `a`\n",
        "    # f(x) = a * b e `b` é constante\n",
        "    # f'(x) = b em relacao a a\n",
        "\n",
        "    # agora em relação a `b`\n",
        "    # f(x) = a * b e `a` é constante\n",
        "    # f'(x) = a em relacao a b\n",
        "\n",
        "    # agora é multiplicar pelo gradiante\n",
        "    grad_a = np.multiply(back_grad.numpy(), b.numpy()) # gradiente que vem do pai * a derivada f'(x) = b em relacao a a\n",
        "    grad_b = np.multiply(back_grad.numpy(), a.numpy()) # gradiente que vem do pai * a derivada f'(x) = a em relacao a b\n",
        "\n",
        "    return [Tensor(grad_a, requires_grad=back_grad.requires_grad),\n",
        "            Tensor(grad_b, requires_grad=back_grad.requires_grad)]\n",
        "\n",
        "# Instancia a classe. O objeto passa a poder ser usado como uma funcao\n",
        "prod = Prod()"
      ],
      "outputs": [],
      "execution_count": 9
    },
    {
      "cell_type": "code",
      "id": "8f3838a7",
      "metadata": {
        "tags": [
          "sin"
        ],
        "ExecuteTime": {
          "end_time": "2025-06-14T21:31:46.350710Z",
          "start_time": "2025-06-14T21:31:46.347169Z"
        },
        "id": "8f3838a7"
      },
      "source": [
        "\n",
        "class Sin(Op):\n",
        "  \"\"\"seno element-wise\"\"\"\n",
        "  @preprocess_op(arity=1)\n",
        "  def __call__(self, t_a: Tensor) -> Tensor:\n",
        "    \"\"\"Realiza a operação usando os argumentos dados em args\"\"\"\n",
        "    return Tensor(\n",
        "      arr=np.sin(t_a.numpy()),\n",
        "      parents=[t_a],\n",
        "      operation=self,\n",
        "      requires_grad=t_a.requires_grad,\n",
        "      name='sin'\n",
        "    )\n",
        "\n",
        "  def grad(self, back_grad: Tensor, *args, **kwargs) -> list[Tensor]:\n",
        "    \"\"\"Retorna a lista de derivadas parciais em relação aos pais (passados em args)\"\"\"\n",
        "    # f(x) = sin(x)\n",
        "    # f'(x) = cos(x)\n",
        "    # gradiente que vem do pai * a derivada f'(x) = cos(x)\n",
        "    a, = args # Args aqui é uma tupla de 1 elemento por isso tive de adicionar a `,`\n",
        "    grad_a = np.multiply(back_grad.numpy(), np.cos(a.numpy()))\n",
        "\n",
        "    return [Tensor(grad_a, requires_grad=back_grad.requires_grad)]\n",
        "\n",
        "# Instancia a classe. O objeto passa a poder ser usado como uma funcao\n",
        "sin = Sin()"
      ],
      "outputs": [],
      "execution_count": 10
    },
    {
      "cell_type": "code",
      "id": "138cb8ef",
      "metadata": {
        "tags": [
          "cos"
        ],
        "ExecuteTime": {
          "end_time": "2025-06-14T21:31:46.400257Z",
          "start_time": "2025-06-14T21:31:46.396756Z"
        },
        "id": "138cb8ef"
      },
      "source": [
        "\n",
        "class Cos(Op):\n",
        "  \"\"\"cosseno element-wise\"\"\"\n",
        "  @preprocess_op(arity=1)\n",
        "  def __call__(self, t_a: Tensor) -> Tensor:\n",
        "    \"\"\"Realiza a operação usando os argumentos dados em args\"\"\"\n",
        "    return Tensor(\n",
        "      arr=np.cos(t_a.numpy()),\n",
        "      parents=[t_a],\n",
        "      operation=self,\n",
        "      requires_grad=t_a.requires_grad,\n",
        "      name='cos'\n",
        "    )\n",
        "\n",
        "\n",
        "  def grad(self, back_grad: Tensor, *args, **kwargs) -> list[Tensor]:\n",
        "    \"\"\"Retorna a lista de derivadas parciais em relação aos pais (passados em args)\"\"\"\n",
        "    # f(x) = cos(x)\n",
        "    # f'(x) = -sin(x)\n",
        "    # gradiente que vem do pai * a derivada f'(x) = -sin(x)\n",
        "    a, = args # Args aqui é uma tupla de 1 elemento por isso tive de adicionar a `,`\n",
        "    grad_a = np.multiply(back_grad.numpy(), -np.sin(a.numpy()))\n",
        "\n",
        "    return [Tensor(grad_a, requires_grad=back_grad.requires_grad)]\n",
        "\n",
        "\n",
        "# Instancia a classe. O objeto passa a poder ser usado como uma funcao\n",
        "cos = Cos()"
      ],
      "outputs": [],
      "execution_count": 11
    },
    {
      "cell_type": "code",
      "id": "46eac52c",
      "metadata": {
        "tags": [
          "sum"
        ],
        "ExecuteTime": {
          "end_time": "2025-06-14T21:35:26.234310Z",
          "start_time": "2025-06-14T21:35:26.226474Z"
        },
        "id": "46eac52c"
      },
      "source": [
        "\n",
        "class Sum(Op):\n",
        "  \"\"\"Retorna a soma dos elementos do tensor\"\"\"\n",
        "  @preprocess_op(arity=1)\n",
        "  def __call__(self, t_a: Tensor) -> Tensor:\n",
        "    \"\"\"Realiza a operação usando os argumentos dados em args\"\"\"\n",
        "    return Tensor(\n",
        "      arr=np.sum(t_a.numpy()),\n",
        "      parents=[t_a],\n",
        "      operation=self,\n",
        "      requires_grad=t_a.requires_grad,\n",
        "      name='sum'\n",
        "    )\n",
        "\n",
        "  def grad(self, back_grad: Tensor, *args, **kwargs) -> list[Tensor]:\n",
        "    \"\"\"Retorna a lista de derivadas parciais em relação aos pais (passados em args)\"\"\"\n",
        "\n",
        "    # f(x) = x1 + x2 + x3 + ... + xn\n",
        "    # f'(x) = 1 + 0 + 0 + ... + 0 em relação a x1\n",
        "    # para cada elemento do tensor, a derivada é 1\n",
        "\n",
        "    a, = args # Args aqui é uma tupla de 1 elemento por isso tive de adicionar a `,`\n",
        "\n",
        "    grad_scalar = back_grad.numpy().item()\n",
        "\n",
        "    # dai eu crio um novo vetor com o mesmo valor para cada elemento do tensor e a mesma forma\n",
        "    grad_arr = np.full_like(a.numpy(), fill_value=grad_scalar)\n",
        "\n",
        "    return [Tensor(grad_arr, requires_grad=back_grad.requires_grad)]\n",
        "\n",
        "\n",
        "# Instancia a classe. O objeto passa a poder ser usado como uma funcao\n",
        "# ⚠️ vamos chamar de my_sum porque python ja possui uma funcao sum\n",
        "my_sum = Sum()"
      ],
      "outputs": [],
      "execution_count": 12
    },
    {
      "cell_type": "code",
      "id": "e098a39c",
      "metadata": {
        "tags": [
          "mean"
        ],
        "ExecuteTime": {
          "end_time": "2025-06-14T21:40:43.993736Z",
          "start_time": "2025-06-14T21:40:43.989575Z"
        },
        "id": "e098a39c"
      },
      "source": [
        "\n",
        "class Mean(Op):\n",
        "  \"\"\"Retorna a média dos elementos do tensor\"\"\"\n",
        "  @preprocess_op(arity=1)\n",
        "  def __call__(self, t_a: Tensor) -> Tensor:\n",
        "    \"\"\"Realiza a operação usando os argumentos dados em args\"\"\"\n",
        "    return Tensor(\n",
        "      arr=np.mean(t_a.numpy()),\n",
        "      parents=[t_a],\n",
        "      operation=self,\n",
        "      requires_grad=t_a.requires_grad,\n",
        "      name='mean'\n",
        "    )\n",
        "\n",
        "  def grad(self, back_grad: Tensor, *args, **kwargs) -> list[Tensor]:\n",
        "    \"\"\"Retorna a lista de derivadas parciais em relação aos pais (passados em args)\"\"\"\n",
        "    a, = args # Args aqui é uma tupla de 1 elemento por isso tive de adicionar a `,`\n",
        "    # f(x) = (x1 + x2 + x3 + ... + xn) * 1/n\n",
        "    # f'(x) = 1/n + 0 + 0 + ... + 0 em relação a x1\n",
        "    # para cada elemento do tensor, a derivada é 1/n\n",
        "    n = a.numpy().size  # número de elementos no tensor\n",
        "    grad_scalar = back_grad.numpy().item() / n  # gradiente que vem do pai dividido pelo número de elementos\n",
        "    # dai eu crio um novo vetor com o mesmo valor para cada elemento do tensor e a mesma forma\n",
        "    grad_arr = np.full_like(a.numpy(), fill_value=grad_scalar)\n",
        "    return [Tensor(grad_arr, requires_grad=back_grad.requires_grad)]\n",
        "\n",
        "\n",
        "# Instancia a classe. O objeto passa a poder ser usado como uma funcao\n",
        "mean = Mean()"
      ],
      "outputs": [],
      "execution_count": 13
    },
    {
      "cell_type": "code",
      "id": "37692879",
      "metadata": {
        "tags": [
          "square"
        ],
        "ExecuteTime": {
          "end_time": "2025-06-14T21:43:40.107362Z",
          "start_time": "2025-06-14T21:43:40.101975Z"
        },
        "id": "37692879"
      },
      "source": [
        "\n",
        "class Square(Op):\n",
        "  \"\"\"Eleva cada elemento ao quadrado\"\"\"\n",
        "  @preprocess_op(arity=1)\n",
        "  def __call__(self, t_a: Tensor) -> Tensor:\n",
        "    \"\"\"Realiza a operação usando os argumentos dados em args\"\"\"\n",
        "    return Tensor(\n",
        "      arr=np.square(t_a.numpy()),\n",
        "      parents=[t_a],\n",
        "      operation=self,\n",
        "      requires_grad=t_a.requires_grad,\n",
        "      name='square'\n",
        "    )\n",
        "\n",
        "  def grad(self, back_grad: Tensor, *args, **kwargs) -> list[Tensor]:\n",
        "    \"\"\"Retorna a lista de derivadas parciais em relação aos pais (passados em args)\"\"\"\n",
        "    a, = args # Args aqui é uma tupla de 1 elemento por isso tive de adicionar a `,`\n",
        "    # f(x) = x^2\n",
        "    # f'(x) = 2x\n",
        "    # para cada elemento do tensor, a derivada é 2x\n",
        "\n",
        "    local_der = 2 * a.numpy()  # calcula 2x para cada elemento do tensor\n",
        "    grad_arr = np.multiply(back_grad.numpy(), local_der)  # multiplica pelo gradiente que vem do pai\n",
        "\n",
        "    return [Tensor(grad_arr, requires_grad=back_grad.requires_grad)]\n",
        "\n",
        "\n",
        "\n",
        "# Instancia a classe. O objeto passa a poder ser usado como uma funcao\n",
        "square = Square()"
      ],
      "outputs": [],
      "execution_count": 14
    },
    {
      "cell_type": "code",
      "id": "6542807d",
      "metadata": {
        "tags": [
          "matmul"
        ],
        "ExecuteTime": {
          "end_time": "2025-06-15T14:22:02.167680Z",
          "start_time": "2025-06-15T14:22:02.164040Z"
        },
        "id": "6542807d"
      },
      "source": [
        "\n",
        "class MatMul(Op):\n",
        "  \"\"\"MatMul(A, B): multiplicação de matrizes\n",
        "\n",
        "  C = A @ B\n",
        "  de/dA = de/dc @ B^T\n",
        "  de/dB = A^T @ de/dc\n",
        "\n",
        "  \"\"\"\n",
        "\n",
        "  @preprocess_op(arity=2)\n",
        "  def __call__(self, t_a: Tensor, t_b: Tensor) -> Tensor:\n",
        "    \"\"\"Realiza a operação usando os argumentos dados em args\"\"\"\n",
        "    return Tensor(\n",
        "      arr=np.matmul(t_a.numpy(), t_b.numpy()),\n",
        "      parents=[t_a, t_b],\n",
        "      operation=self,\n",
        "      requires_grad=t_a.requires_grad or t_b.requires_grad,\n",
        "      name='matmul'\n",
        "    )\n",
        "\n",
        "  def grad(self, back_grad: Tensor, *args, **kwargs) -> list[Tensor]:\n",
        "    \"\"\"Retorna a lista de derivadas parciais em relação aos pais (passados em args)\"\"\"\n",
        "\n",
        "    a, b = args\n",
        "\n",
        "    grad_a = np.matmul(back_grad.numpy(), b.numpy().T)  # de/dA = de/dc @ B^T\n",
        "    grad_b = np.matmul(a.numpy().T, back_grad.numpy())  # de/dB = A^T @ de/dc\n",
        "\n",
        "    return [Tensor(grad_a, requires_grad=back_grad.requires_grad),\n",
        "        Tensor(grad_b, requires_grad=back_grad.requires_grad)]\n",
        "\n",
        "# Instancia a classe. O objeto passa a poder ser usado como uma funcao\n",
        "matmul = MatMul()"
      ],
      "outputs": [],
      "execution_count": 15
    },
    {
      "cell_type": "code",
      "id": "c08a38e3",
      "metadata": {
        "tags": [
          "exp"
        ],
        "ExecuteTime": {
          "end_time": "2025-06-15T13:42:35.225917Z",
          "start_time": "2025-06-15T13:42:35.222083Z"
        },
        "id": "c08a38e3"
      },
      "source": [
        "\n",
        "class Exp(Op):\n",
        "  \"\"\"Exponenciação element-wise\"\"\"\n",
        "  @preprocess_op(arity=1)\n",
        "  def __call__(self, t_a: Tensor) -> Tensor:\n",
        "    \"\"\"Realiza a operação usando os argumentos dados em args\"\"\"\n",
        "    # https://numpy.org/doc/stable/reference/generated/numpy.exp.html\n",
        "    return Tensor(\n",
        "      arr=np.exp(t_a.numpy()),\n",
        "      parents=[t_a],\n",
        "      operation=self,\n",
        "      requires_grad=t_a.requires_grad,\n",
        "      name='exp'\n",
        "    )\n",
        "\n",
        "  def grad(self, back_grad: Tensor, *args, **kwargs) -> list[Tensor]:\n",
        "    \"\"\"Retorna a lista de derivadas parciais em relação aos pais (passados em args)\"\"\"\n",
        "    a, = args\n",
        "\n",
        "    # f(x) = e^x onde x é cada elemento do meu tensor\n",
        "    # f'(x) = e^x a derivada é ela mesma\n",
        "\n",
        "    #entao a derivada local é aplicar o exp para cada elemento do meu tensor\n",
        "    #é quase igual o square\n",
        "    local_der = np.exp(a.numpy())\n",
        "    grad_arr = np.multiply(back_grad.numpy(), local_der)  # multiplica pelo gradiente que vem do pai\n",
        "\n",
        "    return [Tensor(grad_arr, requires_grad=back_grad.requires_grad)]\n",
        "\n",
        "\n",
        "# Instancia a classe. O objeto passa a poder ser usado como uma funcao\n",
        "exp = Exp()"
      ],
      "outputs": [],
      "execution_count": 16
    },
    {
      "cell_type": "code",
      "id": "1acc813e",
      "metadata": {
        "tags": [
          "relu"
        ],
        "ExecuteTime": {
          "end_time": "2025-06-15T13:50:01.302986Z",
          "start_time": "2025-06-15T13:50:01.298952Z"
        },
        "id": "1acc813e"
      },
      "source": [
        "def relu_fn(input_arr: np.ndarray) -> np.ndarray:\n",
        "  return np.maximum(0, input_arr)\n",
        "\n",
        "def relu_grad(input_arr: np.ndarray) -> np.ndarray:\n",
        "    return (input_arr > 0).astype(input_arr.dtype)\n",
        "\n",
        "class ReLU(Op):\n",
        "  \"\"\"ReLU element-wise\"\"\"\n",
        "  @preprocess_op(arity=1)\n",
        "  def __call__(self, t_a: Tensor) -> Tensor:\n",
        "    \"\"\"Realiza a operação usando os argumentos dados em args\"\"\"\n",
        "    return Tensor(\n",
        "      arr=relu_fn(t_a.numpy()),\n",
        "      parents=[t_a],\n",
        "      operation=self,\n",
        "      requires_grad=t_a.requires_grad,\n",
        "      name='relu'\n",
        "    )\n",
        "\n",
        "  def grad(self, back_grad: Tensor, *args, **kwargs) -> list[Tensor]:\n",
        "    \"\"\"Retorna a lista de derivadas parciais em relação aos pais (passados em args)\"\"\"\n",
        "    a, = args\n",
        "\n",
        "    # A relu é assim __/ entao qualquer coisa abaixo de zero é zero, acima é a identidade\n",
        "    # f(x) = max(0, x)\n",
        "    # f'(x) = 1 se x > 0, 0 caso contrario 0\n",
        "\n",
        "    # Entao a derivada local é aplicar o relu_grad para cada elemento do meu tensor\n",
        "    local_der = relu_grad(a.numpy())\n",
        "    grad_arr = np.multiply(back_grad.numpy(), local_der)  # multiplica pelo gradiente que vem do pai\n",
        "\n",
        "    return [Tensor(grad_arr, requires_grad=back_grad.requires_grad)]\n",
        "\n",
        "# Instancia a classe. O objeto passa a poder ser usado como uma funcao\n",
        "relu = ReLU()"
      ],
      "outputs": [],
      "execution_count": 17
    },
    {
      "cell_type": "code",
      "id": "ae499275",
      "metadata": {
        "tags": [
          "sigmoid"
        ],
        "ExecuteTime": {
          "end_time": "2025-06-15T13:54:19.359073Z",
          "start_time": "2025-06-15T13:54:19.354724Z"
        },
        "id": "ae499275"
      },
      "source": [
        "def sigmoid_fn(input_arr: np.ndarray) -> np.ndarray:\n",
        "    \"\"\"\n",
        "    Função sigmoid: sigma(x) = 1 / (1 + exp(-x))\n",
        "    Pode ser usada com escalares, vetores ou matrizes NumPy.\n",
        "    \"\"\"\n",
        "    return 1 / (1 + np.exp(-input_arr))\n",
        "\n",
        "def sigmoid_grad(input_arr: np.ndarray) -> np.ndarray:\n",
        "    return sigmoid_fn(input_arr) * (1 - sigmoid_fn(input_arr))\n",
        "\n",
        "class Sigmoid(Op):\n",
        "  \"\"\"Sigmoid element-wise\"\"\"\n",
        "  @preprocess_op(arity=1)\n",
        "  def __call__(self, t_a: Tensor) -> Tensor:\n",
        "    \"\"\"Realiza a operação usando os argumentos dados em args\"\"\"\n",
        "    return Tensor(\n",
        "      arr=sigmoid_fn(t_a.numpy()),\n",
        "      parents=[t_a],\n",
        "      operation=self,\n",
        "      requires_grad=t_a.requires_grad,\n",
        "      name='sigmoid'\n",
        "    )\n",
        "\n",
        "  def grad(self, back_grad: Tensor, *args, **kwargs) -> list[Tensor]:\n",
        "    \"\"\"Retorna a lista de derivadas parciais em relação aos pais (passados em args)\"\"\"\n",
        "\n",
        "    a, = args\n",
        "\n",
        "    # f(x) = 1 / (1 + exp(-x))\n",
        "    # f'(x) = sigma(x) * (1 - sigma(x))\n",
        "\n",
        "    local_der = sigmoid_grad(a.numpy())\n",
        "    grad_arr = np.multiply(back_grad.numpy(), local_der)  # multiplica pelo gradiente que vem do pai\n",
        "\n",
        "    return [Tensor(grad_arr, requires_grad=back_grad.requires_grad)]\n",
        "\n",
        "# Instancia a classe. O objeto passa a poder ser usado como uma funcao\n",
        "sigmoid = Sigmoid()"
      ],
      "outputs": [],
      "execution_count": 18
    },
    {
      "cell_type": "code",
      "id": "6ce464ba",
      "metadata": {
        "tags": [
          "tanh"
        ],
        "ExecuteTime": {
          "end_time": "2025-06-15T13:56:55.515096Z",
          "start_time": "2025-06-15T13:56:55.510822Z"
        },
        "id": "6ce464ba"
      },
      "source": [
        "def tanh_grad(input_arr: np.ndarray) -> np.ndarray:\n",
        "  return 1 - np.square(np.tanh(input_arr))\n",
        "\n",
        "class Tanh(Op):\n",
        "  \"\"\"Tanh element-wise\"\"\"\n",
        "  @preprocess_op(arity=1)\n",
        "  def __call__(self, t_a: Tensor) -> Tensor:\n",
        "    \"\"\"Realiza a operação usando os argumentos dados em args\"\"\"\n",
        "    return Tensor(\n",
        "      arr=np.tanh(t_a.numpy()),\n",
        "      parents=[t_a],\n",
        "      operation=self,\n",
        "      requires_grad=t_a.requires_grad,\n",
        "      name='tanh'\n",
        "    )\n",
        "\n",
        "  def grad(self, back_grad: Tensor, *args, **kwargs) -> list[Tensor]:\n",
        "    \"\"\"Retorna a lista de derivadas parciais em relação aos pais (passados em args)\"\"\"\n",
        "    a, = args\n",
        "\n",
        "    # f(x) = tanh(x)\n",
        "    # f'(x) = 1 - tanh(x)^2\n",
        "\n",
        "    local_der = tanh_grad(a.numpy())\n",
        "    grad_arr = np.multiply(back_grad.numpy(), local_der)  # multiplica pelo gradiente que vem do pai\n",
        "\n",
        "    return [Tensor(grad_arr, requires_grad=back_grad.requires_grad)]\n",
        "\n",
        "# Instancia a classe. O objeto passa a poder ser usado como uma funcao\n",
        "tanh = Tanh()"
      ],
      "outputs": [],
      "execution_count": 19
    },
    {
      "cell_type": "code",
      "id": "f15a37eb",
      "metadata": {
        "tags": [
          "softmax"
        ],
        "ExecuteTime": {
          "end_time": "2025-06-15T14:13:46.033438Z",
          "start_time": "2025-06-15T14:13:46.029705Z"
        },
        "id": "f15a37eb"
      },
      "source": [
        "def softmax_fn(input_arr: np.ndarray) -> np.ndarray:\n",
        "  \"\"\"Calcula a softmax de um array de valores.\"\"\"\n",
        "\n",
        "  # A função softmax é definida como:\n",
        "  # softmax(x_i) = exp(x_i) / sum(exp(x_j)) para j em {1, ..., n}\n",
        "\n",
        "  # https://victorzhou.com/blog/softmax/\n",
        "  numerator = np.exp(input_arr)\n",
        "  denominator = np.sum(np.exp(input_arr))\n",
        "\n",
        "  return numerator / denominator\n",
        "\n",
        "class Softmax(Op):\n",
        "  \"\"\"Softmax de um array de valores. Lembre-se que cada elemento do array influencia o resultado da função para todos os demais elementos.\"\"\"\n",
        "  @preprocess_op(arity=1)\n",
        "  def __call__(self, t_a: Tensor) -> Tensor:\n",
        "    \"\"\"Realiza a operação usando os argumentos dados em args\"\"\"\n",
        "    return Tensor(\n",
        "      arr=np.exp(t_a.numpy())/sum(np.exp(t_a.numpy())),\n",
        "      parents=[t_a],\n",
        "      operation=self,\n",
        "      requires_grad=t_a.requires_grad,\n",
        "      name='softmax'\n",
        "    )\n",
        "\n",
        "  def grad(self, back_grad: Tensor, *args, **kwargs) -> list[Tensor]:\n",
        "    \"\"\"Retorna a lista de derivadas parciais em relação aos pais (passados em args)\"\"\"\n",
        "\n",
        "# Instancia a classe. O objeto passa a poder ser usado como uma funcao\n",
        "softmax = Softmax()"
      ],
      "outputs": [],
      "execution_count": 20
    },
    {
      "cell_type": "markdown",
      "id": "12256fd7",
      "metadata": {
        "id": "12256fd7"
      },
      "source": [
        "\n",
        "### ‼️ Regras e Pontos de Atenção‼️\n",
        "\n",
        "- Vamos fazer a hipótese simplificadora que Tensores devem ser sempre matrizes. Por exemplo, o escalar 2 deve ser armazado em `_arr` como a matriz `[[2]]`. De forma similar, a lista `[1, 2, 3]` deve ser armazenada em `_arr` como em uma matriz coluna.\n",
        "\n",
        "- Devem ser realizados `asserts` nas operações para garantir que os shapes dos operandos fazem sentido. Esta verificação também deve ser feita depois das operações que manipulam gradientes de tensores.\n",
        "\n",
        "- Devem ser respeitados os nomes dos atributos, métodos e classes para viabilizar os testes automáticos.\n",
        "\n",
        "- Gradientes devem ser calculados usando uma passada pelo grafo computacional.\n",
        "\n",
        "- Os gradientes devem ser somados e não substituídos nas chamadas de  backward. Isto vai permitir que os gradientes sejam acumulados entre amostras do dataset e que os resultados sejam corretos mesmo em caso de ramificações e junções no grafo computacional.\n",
        "\n",
        "- Lembre-se de zerar os gradientes após cada passo de gradient descent (atualização dos parâmetros).\n"
      ]
    },
    {
      "cell_type": "markdown",
      "id": "fc927248",
      "metadata": {
        "id": "fc927248"
      },
      "source": [
        "## Testes Básicos"
      ]
    },
    {
      "cell_type": "markdown",
      "id": "c5ae08a8",
      "metadata": {
        "id": "c5ae08a8"
      },
      "source": [
        "Estes testes avaliam se a derivada da função está sendo calculada corretamente, mas em muitos casos **não** avaliam se os gradientes backpropagados estão sendo incorporados corretamente. Esta avaliação será feita nos problemas da próxima seção."
      ]
    },
    {
      "cell_type": "markdown",
      "id": "b05318a9",
      "metadata": {
        "id": "b05318a9"
      },
      "source": [
        "Operador de Soma"
      ]
    },
    {
      "cell_type": "code",
      "id": "9fd20550",
      "metadata": {
        "tags": [
          "test_add"
        ],
        "ExecuteTime": {
          "end_time": "2025-06-14T21:31:46.925021Z",
          "start_time": "2025-06-14T21:31:46.921247Z"
        },
        "id": "9fd20550",
        "outputId": "5a75835c-4e75-445d-fdf9-36cacf890887",
        "colab": {
          "base_uri": "https://localhost:8080/"
        }
      },
      "source": [
        "# add\n",
        "\n",
        "a = Tensor([1.0, 2.0, 3.0])\n",
        "b = Tensor([4.0, 5.0, 6.0])\n",
        "c = add(a, b)\n",
        "d = add(c, 3.0)\n",
        "d.backward()\n",
        "\n",
        "# esperado: matrizes coluna contendo 1\n",
        "print(a.grad)\n",
        "print(b.grad)\n"
      ],
      "outputs": [
        {
          "output_type": "stream",
          "name": "stdout",
          "text": [
            "Tensor([[1.]\n",
            " [1.]\n",
            " [1.]], name=, shape=(3, 1))\n",
            "Tensor([[1.]\n",
            " [1.]\n",
            " [1.]], name=, shape=(3, 1))\n"
          ]
        }
      ],
      "execution_count": 21
    },
    {
      "cell_type": "markdown",
      "id": "fac72b1a",
      "metadata": {
        "id": "fac72b1a"
      },
      "source": [
        "Operador de Subtração"
      ]
    },
    {
      "cell_type": "code",
      "id": "612377aa",
      "metadata": {
        "tags": [
          "test_sub"
        ],
        "ExecuteTime": {
          "end_time": "2025-06-14T21:31:46.984826Z",
          "start_time": "2025-06-14T21:31:46.981275Z"
        },
        "id": "612377aa",
        "outputId": "ce12074e-8ec7-4864-9d3d-5aafe7f81d50",
        "colab": {
          "base_uri": "https://localhost:8080/"
        }
      },
      "source": [
        "# sub\n",
        "\n",
        "a = Tensor([1.0, 2.0, 3.0])\n",
        "b = Tensor([4.0, 5.0, 6.0])\n",
        "c = sub(a, b)\n",
        "d = sub(c, 3.0)\n",
        "d.backward()\n",
        "\n",
        "# esperado: matrizes coluna contendo 1 e -1\n",
        "print(a.grad)\n",
        "print(b.grad)\n"
      ],
      "outputs": [
        {
          "output_type": "stream",
          "name": "stdout",
          "text": [
            "Tensor([[1.]\n",
            " [1.]\n",
            " [1.]], name=, shape=(3, 1))\n",
            "Tensor([[-1.]\n",
            " [-1.]\n",
            " [-1.]], name=, shape=(3, 1))\n"
          ]
        }
      ],
      "execution_count": 22
    },
    {
      "cell_type": "markdown",
      "id": "9c7c8e63",
      "metadata": {
        "id": "9c7c8e63"
      },
      "source": [
        "Operador de Produto"
      ]
    },
    {
      "cell_type": "code",
      "id": "dc60de82",
      "metadata": {
        "tags": [
          "test_prod"
        ],
        "ExecuteTime": {
          "end_time": "2025-06-14T21:31:47.039298Z",
          "start_time": "2025-06-14T21:31:47.035319Z"
        },
        "id": "dc60de82",
        "outputId": "f2da022c-6bf3-4e8d-f516-5c227031a972",
        "colab": {
          "base_uri": "https://localhost:8080/"
        }
      },
      "source": [
        "# prod\n",
        "\n",
        "a = Tensor([1.0, 2.0, 3.0])\n",
        "b = Tensor([4.0, 5.0, 6.0])\n",
        "c = prod(a, b)\n",
        "d = prod(c, 3.0)\n",
        "d.backward()\n",
        "\n",
        "# esperado: [12, 15, 18]^T\n",
        "print(a.grad)\n",
        "# esperado: [3, 6, 9]^T\n",
        "print(b.grad)\n"
      ],
      "outputs": [
        {
          "output_type": "stream",
          "name": "stdout",
          "text": [
            "Tensor([[12.]\n",
            " [15.]\n",
            " [18.]], name=, shape=(3, 1))\n",
            "Tensor([[3.]\n",
            " [6.]\n",
            " [9.]], name=, shape=(3, 1))\n"
          ]
        }
      ],
      "execution_count": 23
    },
    {
      "cell_type": "markdown",
      "id": "5d91e1c3",
      "metadata": {
        "id": "5d91e1c3"
      },
      "source": [
        "Operadores trigonométricos"
      ]
    },
    {
      "cell_type": "code",
      "id": "6185a989",
      "metadata": {
        "tags": [
          "test_sin_cos"
        ],
        "ExecuteTime": {
          "end_time": "2025-06-14T21:36:36.657288Z",
          "start_time": "2025-06-14T21:35:31.496537Z"
        },
        "id": "6185a989",
        "outputId": "2a3c7e56-a03a-405e-9c4d-8058155ea3b1",
        "colab": {
          "base_uri": "https://localhost:8080/"
        }
      },
      "source": [
        "# sin e cos\n",
        "\n",
        "a = Tensor([np.pi, 0, np.pi/2])\n",
        "b = sin(a)\n",
        "c = cos(a)\n",
        "d = my_sum(add(b, c))\n",
        "d.backward()\n",
        "\n",
        "# esperado: [-1, 1, -1]^T\n",
        "print(a.grad)"
      ],
      "outputs": [
        {
          "output_type": "stream",
          "name": "stdout",
          "text": [
            "Tensor([[-1.]\n",
            " [ 1.]\n",
            " [-1.]], name=, shape=(3, 1))\n"
          ]
        }
      ],
      "execution_count": 24
    },
    {
      "cell_type": "code",
      "execution_count": 25,
      "id": "5f29f232",
      "metadata": {
        "tags": [
          "test_sum"
        ],
        "id": "5f29f232",
        "outputId": "02f9839c-1104-4fbc-a094-4cfcf09a80e8",
        "colab": {
          "base_uri": "https://localhost:8080/"
        }
      },
      "outputs": [
        {
          "output_type": "stream",
          "name": "stdout",
          "text": [
            "Tensor([[4.]\n",
            " [4.]\n",
            " [4.]\n",
            " [4.]], name=, shape=(4, 1))\n"
          ]
        }
      ],
      "source": [
        "# Sum\n",
        "\n",
        "a = Tensor([3.0, 1.0, 0.0, 2.0])\n",
        "b = add(prod(a, 3.0), a)\n",
        "c = my_sum(b)\n",
        "c.backward()\n",
        "\n",
        "# esperado: [4, 4, 4, 4]^T\n",
        "print(a.grad)\n"
      ]
    },
    {
      "cell_type": "code",
      "id": "8943e71a",
      "metadata": {
        "tags": [
          "test_mean"
        ],
        "ExecuteTime": {
          "end_time": "2025-06-14T21:40:47.724460Z",
          "start_time": "2025-06-14T21:40:47.720822Z"
        },
        "id": "8943e71a",
        "outputId": "ad75eb78-48b0-41f9-e96d-64ac4181b768",
        "colab": {
          "base_uri": "https://localhost:8080/"
        }
      },
      "source": [
        "# Mean\n",
        "\n",
        "a = Tensor([3.0, 1.0, 0.0, 2.0])\n",
        "b = mean(a)\n",
        "b.backward()\n",
        "\n",
        "# esperado: [0.25, 0.25, 0.25, 0.25]^T\n",
        "print(a.grad)\n"
      ],
      "outputs": [
        {
          "output_type": "stream",
          "name": "stdout",
          "text": [
            "Tensor([[0.25]\n",
            " [0.25]\n",
            " [0.25]\n",
            " [0.25]], name=, shape=(4, 1))\n"
          ]
        }
      ],
      "execution_count": 26
    },
    {
      "cell_type": "code",
      "id": "1c7dbd2c",
      "metadata": {
        "tags": [
          "test_square"
        ],
        "ExecuteTime": {
          "end_time": "2025-06-14T21:43:43.511960Z",
          "start_time": "2025-06-14T21:43:43.508231Z"
        },
        "id": "1c7dbd2c",
        "outputId": "52f22537-e0a8-45d1-8826-51efaf1dc735",
        "colab": {
          "base_uri": "https://localhost:8080/"
        }
      },
      "source": [
        "# Square\n",
        "\n",
        "a = Tensor([3.0, 1.0, 0.0, 2.0])\n",
        "b = square(a)\n",
        "\n",
        "# esperado: [9, 1, 0, 4]^T\n",
        "print(b)\n",
        "\n",
        "b.backward()\n",
        "\n",
        "# esperado: [6, 2, 0, 4]\n",
        "print(a.grad)"
      ],
      "outputs": [
        {
          "output_type": "stream",
          "name": "stdout",
          "text": [
            "Tensor([[9.]\n",
            " [1.]\n",
            " [0.]\n",
            " [4.]], name=square, shape=(4, 1))\n",
            "Tensor([[6.]\n",
            " [2.]\n",
            " [0.]\n",
            " [4.]], name=, shape=(4, 1))\n"
          ]
        }
      ],
      "execution_count": 27
    },
    {
      "cell_type": "code",
      "id": "02f2ead7",
      "metadata": {
        "tags": [
          "test_matmul"
        ],
        "ExecuteTime": {
          "end_time": "2025-06-15T14:22:12.253731Z",
          "start_time": "2025-06-15T14:22:12.249313Z"
        },
        "id": "02f2ead7",
        "outputId": "25cc4efc-18ad-4a9b-a0c5-7f9c8c1aa8b6",
        "colab": {
          "base_uri": "https://localhost:8080/"
        }
      },
      "source": [
        "# matmul\n",
        "\n",
        "W = Tensor([\n",
        "    [1.0, 2.0, 3.0],\n",
        "    [4.0, 5.0, 6.0],\n",
        "    [7.0, 8.0, 9.0]\n",
        "])\n",
        "\n",
        "v = Tensor([1.0, 2.0, 3.0])\n",
        "\n",
        "z = matmul(W, v)\n",
        "\n",
        "# esperado: [14, 32, 50]^T\n",
        "print(z)\n",
        "\n",
        "z.backward()\n",
        "\n",
        "# esperado:\n",
        "# [1, 2, 3]\n",
        "# [1, 2, 3]\n",
        "# [1, 2, 3]\n",
        "print(W.grad)\n",
        "\n",
        "# esperado: [12, 15, 18]^T\n",
        "print(v.grad)\n"
      ],
      "outputs": [
        {
          "output_type": "stream",
          "name": "stdout",
          "text": [
            "Tensor([[14.]\n",
            " [32.]\n",
            " [50.]], name=matmul, shape=(3, 1))\n",
            "Tensor([[1. 2. 3.]\n",
            " [1. 2. 3.]\n",
            " [1. 2. 3.]], name=, shape=(3, 3))\n",
            "Tensor([[12.]\n",
            " [15.]\n",
            " [18.]], name=, shape=(3, 1))\n"
          ]
        }
      ],
      "execution_count": 28
    },
    {
      "cell_type": "code",
      "id": "706212d2",
      "metadata": {
        "tags": [
          "test_exp"
        ],
        "ExecuteTime": {
          "end_time": "2025-06-15T13:42:38.239565Z",
          "start_time": "2025-06-15T13:42:38.235878Z"
        },
        "id": "706212d2",
        "outputId": "2c7d2707-91dd-4da1-a844-c8c346cee682",
        "colab": {
          "base_uri": "https://localhost:8080/"
        }
      },
      "source": [
        "# Exp\n",
        "\n",
        "v = Tensor([1.0, 2.0, 3.0])\n",
        "w = exp(v)\n",
        "\n",
        "# esperado: [2.718..., 7.389..., 20.085...]^T\n",
        "print(w)\n",
        "\n",
        "w.backward()\n",
        "\n",
        "# esperado: [2.718..., 7.389..., 20.085...]^T\n",
        "print(v.grad)"
      ],
      "outputs": [
        {
          "output_type": "stream",
          "name": "stdout",
          "text": [
            "Tensor([[ 2.71828183]\n",
            " [ 7.3890561 ]\n",
            " [20.08553692]], name=exp, shape=(3, 1))\n",
            "Tensor([[ 2.71828183]\n",
            " [ 7.3890561 ]\n",
            " [20.08553692]], name=, shape=(3, 1))\n"
          ]
        }
      ],
      "execution_count": 29
    },
    {
      "cell_type": "code",
      "id": "9510d010",
      "metadata": {
        "tags": [
          "test_relu"
        ],
        "ExecuteTime": {
          "end_time": "2025-06-15T13:50:05.223058Z",
          "start_time": "2025-06-15T13:50:05.218827Z"
        },
        "id": "9510d010",
        "outputId": "ceb0c832-a1f5-49ec-fdfc-883a022efd37",
        "colab": {
          "base_uri": "https://localhost:8080/"
        }
      },
      "source": [
        "# Relu\n",
        "\n",
        "v = Tensor([-1.0, 0.0, 1.0, 3.0])\n",
        "w = relu(v)\n",
        "\n",
        "# esperado: [0, 0, 1, 3]^T\n",
        "print(w)\n",
        "\n",
        "w.backward()\n",
        "\n",
        "# esperado: [0, 0, 1, 1]^T\n",
        "print(v.grad)"
      ],
      "outputs": [
        {
          "output_type": "stream",
          "name": "stdout",
          "text": [
            "Tensor([[0.]\n",
            " [0.]\n",
            " [1.]\n",
            " [3.]], name=relu, shape=(4, 1))\n",
            "Tensor([[0.]\n",
            " [0.]\n",
            " [1.]\n",
            " [1.]], name=, shape=(4, 1))\n"
          ]
        }
      ],
      "execution_count": 30
    },
    {
      "cell_type": "code",
      "id": "2f0fbf8d",
      "metadata": {
        "tags": [
          "test_sigmoid"
        ],
        "ExecuteTime": {
          "end_time": "2025-06-15T13:54:23.520274Z",
          "start_time": "2025-06-15T13:54:23.516926Z"
        },
        "id": "2f0fbf8d",
        "outputId": "d3e7c8f6-5527-4bb8-a3db-4d2d0c988dcb",
        "colab": {
          "base_uri": "https://localhost:8080/"
        }
      },
      "source": [
        "# Sigmoid\n",
        "\n",
        "v = Tensor([-1.0, 0.0, 1.0, 3.0])\n",
        "w = sigmoid(v)\n",
        "\n",
        "# esperado: [0.268.., 0.5, 0.731.., 0.952..]^T\n",
        "print(w)\n",
        "\n",
        "w.backward()\n",
        "\n",
        "# esperado: [0.196..., 0.25, 0.196..., 0.045...]^T\n",
        "print(v.grad)"
      ],
      "outputs": [
        {
          "output_type": "stream",
          "name": "stdout",
          "text": [
            "Tensor([[0.26894142]\n",
            " [0.5       ]\n",
            " [0.73105858]\n",
            " [0.95257413]], name=sigmoid, shape=(4, 1))\n",
            "Tensor([[0.19661193]\n",
            " [0.25      ]\n",
            " [0.19661193]\n",
            " [0.04517666]], name=, shape=(4, 1))\n"
          ]
        }
      ],
      "execution_count": 31
    },
    {
      "cell_type": "code",
      "id": "7e867dec",
      "metadata": {
        "tags": [
          "test_tanh"
        ],
        "ExecuteTime": {
          "end_time": "2025-06-15T13:56:58.229839Z",
          "start_time": "2025-06-15T13:56:58.226468Z"
        },
        "id": "7e867dec",
        "outputId": "9646044a-65fd-4f87-d17d-fdfefd8b155e",
        "colab": {
          "base_uri": "https://localhost:8080/"
        }
      },
      "source": [
        "# Tanh\n",
        "\n",
        "v = Tensor([-1.0, 0.0, 1.0, 3.0])\n",
        "w = tanh(v)\n",
        "\n",
        "# esperado: [[-0.76159416, 0., 0.76159416, 0.99505475]^T\n",
        "print(w)\n",
        "\n",
        "w.backward()\n",
        "\n",
        "# esperado: [0.41997434, 1., 0.41997434, 0.00986604]^T\n",
        "print(v.grad)"
      ],
      "outputs": [
        {
          "output_type": "stream",
          "name": "stdout",
          "text": [
            "Tensor([[-0.76159416]\n",
            " [ 0.        ]\n",
            " [ 0.76159416]\n",
            " [ 0.99505475]], name=tanh, shape=(4, 1))\n",
            "Tensor([[0.41997434]\n",
            " [1.        ]\n",
            " [0.41997434]\n",
            " [0.00986604]], name=, shape=(4, 1))\n"
          ]
        }
      ],
      "execution_count": 32
    },
    {
      "cell_type": "code",
      "id": "7fd3235d",
      "metadata": {
        "tags": [
          "test_softmax"
        ],
        "ExecuteTime": {
          "end_time": "2025-06-15T14:13:49.356123Z",
          "start_time": "2025-06-15T14:13:49.351705Z"
        },
        "id": "7fd3235d",
        "outputId": "d3d5b7ff-5d3a-4645-a55f-bf94094de080",
        "colab": {
          "base_uri": "https://localhost:8080/"
        }
      },
      "source": [
        "# Softmax\n",
        "\n",
        "x = Tensor([-3.1, 0.5, 1.0, 2.0])\n",
        "y = softmax(x)\n",
        "\n",
        "# esperado: [0.00381737, 0.13970902, 0.23034123, 0.62613238]^T\n",
        "print(y)\n",
        "#\n",
        "# # como exemplo, calcula o MSE para um target vector\n",
        "# diff = sub(y, [1, 0, 0, 0])\n",
        "# sq = square(diff)\n",
        "# a = mean(sq)\n",
        "#\n",
        "# # esperado: 0.36424932\n",
        "# print(\"MSE:\", a)\n",
        "#\n",
        "# a.backward()\n",
        "#\n",
        "# # esperado: [-0.00278095, -0.02243068, -0.02654377, 0.05175539]^T\n",
        "# print(x.grad)\n",
        "\n"
      ],
      "outputs": [
        {
          "output_type": "stream",
          "name": "stdout",
          "text": [
            "Tensor([[0.00381737]\n",
            " [0.13970902]\n",
            " [0.23034123]\n",
            " [0.62613238]], name=softmax, shape=(4, 1))\n"
          ]
        }
      ],
      "execution_count": 33
    },
    {
      "cell_type": "markdown",
      "id": "c27a3d9f",
      "metadata": {
        "id": "c27a3d9f"
      },
      "source": [
        "## Pontos Extras\n",
        "\n",
        "### Tarefas\n",
        "\n",
        "- **+2 pontos**: Utilizar sobrecarga de operadores para permitir que todas as operações disponíveis aos arrays do numpy possam ser realizadas com tensores, incluindo operações que envolvam broadcasting.\n",
        "  - Por exemplo, assumindo que a e b são tensores possivelmente com dimensões diferentes, devem ser possível realizar as operações a + 2, a * b, a @ b, a.max(), a.sum(axis=0).\n",
        "  - Para realizar esta atividade, os atributos da classe Tensor podem ser completamente modificados, mas deve ser provido um método backward para iniciar o backpropagation.\n",
        "  - Naturalmente, a regra de que tensores devem ser matrizes deve ser desconsiderada neste caso.\n",
        "\n",
        "- **+1 ponto**: Atualizar as classes para permitir derivadas de mais alta ordem (derivadas segundas, etc.).\n",
        "\n",
        "- **+1 ponto**: Entregar uma versão adicional do trabalho completo usando C/C++ e com foco em minimizar o tempo para realização das operações. Os casos de teste do sistema Testr também deverão ser replicados utilizando esta linguagem.\n",
        "\n",
        "### Regras\n",
        "\n",
        "- Só serão elegíveis para receber pontos extras os alunos que cumprirem 100% dos requisitos da parte principal do trabalho.\n",
        "\n",
        "- Para receber os pontos extras, deverá ser agendado um horário para uma entrevista individual que abordará tanto os códigos-fonte relativos aos pontos extras quanto à parte principal do trabalho (pode acontecer redução da pontuação da parte principal do trabalho).\n",
        "\n",
        "- Receberá os pontos extras quem responder corretamente às perguntas da entrevista. Não será atribuída pontuação parcial aos pontos extras.\n",
        "\n",
        "## Referências\n",
        "\n",
        "### Principais\n",
        "\n",
        "- [Build your own pytorch](https://www.peterholderrieth.com/blog/2023/Build-Your-Own-Pytorch-1-Computation-Graphs/)\n",
        "- [Build your own Pytorch - 2: Backpropagation](https://www.peterholderrieth.com/blog/2023/Build-Your-Own-Pytorch-2-Autograd/)\n",
        "- [Build your own PyTorch - 3: Training a Neural Network with self-made AD software](https://www.peterholderrieth.com/blog/2023/Build-Your-Own-Pytorch-3-Build-Classifier/)\n",
        "- [Pytorch: A Gentle Introduction to torch.autograd](https://docs.pytorch.org/tutorials/beginner/blitz/autograd_tutorial.html)\n",
        "- [Automatic Differentiation with torch.autograd](https://docs.pytorch.org/tutorials/beginner/basics/autogradqs_tutorial.html)\n",
        "\n",
        "### Secundárias\n",
        "\n",
        "- [Tom Roth: Building a computational graph: part 1](https://tomroth.dev/compgraph1/)\n",
        "- [Tom Roth: Building a computational graph: part 2](https://tomroth.dev/compgraph2/)\n",
        "- [Tom Roth: Building a computational graph: part 3](https://tomroth.dev/compgraph3/)\n",
        "- [Roger Grosse (Toronto) class on Automatic Differentiation](https://www.cs.toronto.edu/~rgrosse/courses/csc321_2018/slides/lec10.pdf)\n",
        "- [Computational graphs and gradient flows](https://simple-english-machine-learning.readthedocs.io/en/latest/neural-networks/computational-graphs.html)\n",
        "- [Colah Visual Blog: Backprop](https://colah.github.io/posts/2015-08-Backprop/)\n",
        "- [Towards Data Science: Automatic Differentiation (AutoDiff): A Brief Intro with Examples](https://towardsdatascience.com/automatic-differentiation-autodiff-a-brief-intro-with-examples-3f3d257ffe3b/)\n",
        "- [A Hands-on Introduction to Automatic Differentiation - Part 1](https://mostafa-samir.github.io/auto-diff-pt1/)\n",
        "- [Build Your own Deep Learning Framework - A Hands-on Introduction to Automatic Differentiation - Part 2](https://mostafa-samir.github.io/auto-diff-pt1/)\n"
      ]
    }
  ],
  "metadata": {
    "jupytext": {
      "cell_metadata_filter": "-all",
      "main_language": "python",
      "notebook_metadata_filter": "-all"
    },
    "kernelspec": {
      "display_name": "venv_main",
      "language": "python",
      "name": "python3"
    },
    "language_info": {
      "codemirror_mode": {
        "name": "ipython",
        "version": 3
      },
      "file_extension": ".py",
      "mimetype": "text/x-python",
      "name": "python",
      "nbconvert_exporter": "python",
      "pygments_lexer": "ipython3",
      "version": "3.13.3"
    },
    "colab": {
      "provenance": [],
      "include_colab_link": true
    }
  },
  "nbformat": 4,
  "nbformat_minor": 5
}